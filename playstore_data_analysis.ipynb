{
  "nbformat": 4,
  "nbformat_minor": 0,
  "metadata": {
    "colab": {
      "name": "playstore data analysis.ipynb",
      "provenance": [],
      "include_colab_link": true
    },
    "kernelspec": {
      "name": "python3",
      "display_name": "Python 3"
    },
    "language_info": {
      "name": "python"
    }
  },
  "cells": [
    {
      "cell_type": "markdown",
      "metadata": {
        "id": "view-in-github",
        "colab_type": "text"
      },
      "source": [
        "<a href=\"https://colab.research.google.com/github/reon2002/Major-Project-1/blob/main/playstore_data_analysis.ipynb\" target=\"_parent\"><img src=\"https://colab.research.google.com/assets/colab-badge.svg\" alt=\"Open In Colab\"/></a>"
      ]
    },
    {
      "cell_type": "markdown",
      "metadata": {
        "id": "C7Xr780UGEqN"
      },
      "source": [
        "**MAJOR PROJECT 2**"
      ]
    },
    {
      "cell_type": "markdown",
      "metadata": {
        "id": "z-s25xlPF0f1"
      },
      "source": [
        "**Importing required libraries**"
      ]
    },
    {
      "cell_type": "code",
      "metadata": {
        "id": "szEQ9IfeCtFX"
      },
      "source": [
        "import pandas as pd\n",
        "import seaborn as sns\n",
        "import numpy as np\n",
        "import re\n",
        "from scipy.stats import mannwhitneyu\n",
        "from matplotlib import pyplot as plt"
      ],
      "execution_count": null,
      "outputs": []
    },
    {
      "cell_type": "markdown",
      "metadata": {
        "id": "2Pa0vzPrHdPN"
      },
      "source": [
        "Importing the give data in data frame"
      ]
    },
    {
      "cell_type": "code",
      "metadata": {
        "colab": {
          "base_uri": "https://localhost:8080/",
          "height": 388
        },
        "id": "_O9HsiFGC-To",
        "outputId": "34282c7f-67ef-4d08-f732-e0c356e0c852"
      },
      "source": [
        "df = pd.read_csv('googleplaystore.csv')\n",
        "df.head(5)"
      ],
      "execution_count": null,
      "outputs": [
        {
          "output_type": "execute_result",
          "data": {
            "text/html": [
              "<div>\n",
              "<style scoped>\n",
              "    .dataframe tbody tr th:only-of-type {\n",
              "        vertical-align: middle;\n",
              "    }\n",
              "\n",
              "    .dataframe tbody tr th {\n",
              "        vertical-align: top;\n",
              "    }\n",
              "\n",
              "    .dataframe thead th {\n",
              "        text-align: right;\n",
              "    }\n",
              "</style>\n",
              "<table border=\"1\" class=\"dataframe\">\n",
              "  <thead>\n",
              "    <tr style=\"text-align: right;\">\n",
              "      <th></th>\n",
              "      <th>App</th>\n",
              "      <th>Category</th>\n",
              "      <th>Rating</th>\n",
              "      <th>Reviews</th>\n",
              "      <th>Size</th>\n",
              "      <th>Installs</th>\n",
              "      <th>Type</th>\n",
              "      <th>Price</th>\n",
              "      <th>Content Rating</th>\n",
              "      <th>Genres</th>\n",
              "      <th>Last Updated</th>\n",
              "      <th>Current Ver</th>\n",
              "      <th>Android Ver</th>\n",
              "    </tr>\n",
              "  </thead>\n",
              "  <tbody>\n",
              "    <tr>\n",
              "      <th>0</th>\n",
              "      <td>Photo Editor &amp; Candy Camera &amp; Grid &amp; ScrapBook</td>\n",
              "      <td>ART_AND_DESIGN</td>\n",
              "      <td>4.1</td>\n",
              "      <td>159</td>\n",
              "      <td>19M</td>\n",
              "      <td>10,000+</td>\n",
              "      <td>Free</td>\n",
              "      <td>0</td>\n",
              "      <td>Everyone</td>\n",
              "      <td>Art &amp; Design</td>\n",
              "      <td>January 7, 2018</td>\n",
              "      <td>1.0.0</td>\n",
              "      <td>4.0.3 and up</td>\n",
              "    </tr>\n",
              "    <tr>\n",
              "      <th>1</th>\n",
              "      <td>Coloring book moana</td>\n",
              "      <td>ART_AND_DESIGN</td>\n",
              "      <td>3.9</td>\n",
              "      <td>967</td>\n",
              "      <td>14M</td>\n",
              "      <td>500,000+</td>\n",
              "      <td>Free</td>\n",
              "      <td>0</td>\n",
              "      <td>Everyone</td>\n",
              "      <td>Art &amp; Design;Pretend Play</td>\n",
              "      <td>January 15, 2018</td>\n",
              "      <td>2.0.0</td>\n",
              "      <td>4.0.3 and up</td>\n",
              "    </tr>\n",
              "    <tr>\n",
              "      <th>2</th>\n",
              "      <td>U Launcher Lite – FREE Live Cool Themes, Hide ...</td>\n",
              "      <td>ART_AND_DESIGN</td>\n",
              "      <td>4.7</td>\n",
              "      <td>87510</td>\n",
              "      <td>8.7M</td>\n",
              "      <td>5,000,000+</td>\n",
              "      <td>Free</td>\n",
              "      <td>0</td>\n",
              "      <td>Everyone</td>\n",
              "      <td>Art &amp; Design</td>\n",
              "      <td>August 1, 2018</td>\n",
              "      <td>1.2.4</td>\n",
              "      <td>4.0.3 and up</td>\n",
              "    </tr>\n",
              "    <tr>\n",
              "      <th>3</th>\n",
              "      <td>Sketch - Draw &amp; Paint</td>\n",
              "      <td>ART_AND_DESIGN</td>\n",
              "      <td>4.5</td>\n",
              "      <td>215644</td>\n",
              "      <td>25M</td>\n",
              "      <td>50,000,000+</td>\n",
              "      <td>Free</td>\n",
              "      <td>0</td>\n",
              "      <td>Teen</td>\n",
              "      <td>Art &amp; Design</td>\n",
              "      <td>June 8, 2018</td>\n",
              "      <td>Varies with device</td>\n",
              "      <td>4.2 and up</td>\n",
              "    </tr>\n",
              "    <tr>\n",
              "      <th>4</th>\n",
              "      <td>Pixel Draw - Number Art Coloring Book</td>\n",
              "      <td>ART_AND_DESIGN</td>\n",
              "      <td>4.3</td>\n",
              "      <td>967</td>\n",
              "      <td>2.8M</td>\n",
              "      <td>100,000+</td>\n",
              "      <td>Free</td>\n",
              "      <td>0</td>\n",
              "      <td>Everyone</td>\n",
              "      <td>Art &amp; Design;Creativity</td>\n",
              "      <td>June 20, 2018</td>\n",
              "      <td>1.1</td>\n",
              "      <td>4.4 and up</td>\n",
              "    </tr>\n",
              "  </tbody>\n",
              "</table>\n",
              "</div>"
            ],
            "text/plain": [
              "                                                 App  ...   Android Ver\n",
              "0     Photo Editor & Candy Camera & Grid & ScrapBook  ...  4.0.3 and up\n",
              "1                                Coloring book moana  ...  4.0.3 and up\n",
              "2  U Launcher Lite – FREE Live Cool Themes, Hide ...  ...  4.0.3 and up\n",
              "3                              Sketch - Draw & Paint  ...    4.2 and up\n",
              "4              Pixel Draw - Number Art Coloring Book  ...    4.4 and up\n",
              "\n",
              "[5 rows x 13 columns]"
            ]
          },
          "metadata": {},
          "execution_count": 4
        }
      ]
    },
    {
      "cell_type": "markdown",
      "metadata": {
        "id": "nEJR9lCrHnum"
      },
      "source": [
        "Checking duplicate data"
      ]
    },
    {
      "cell_type": "code",
      "metadata": {
        "colab": {
          "base_uri": "https://localhost:8080/"
        },
        "id": "750mN5faDSbl",
        "outputId": "5b244826-3a44-4c26-d2fe-ef0eadf331cf"
      },
      "source": [
        "n_duplicated = df.duplicated(subset=['App']).sum()\n",
        "print(\"There are {}/{} duplicated records.\".format(n_duplicated, df.shape[0]))\n",
        "df_no_dup = df.drop(df.index[df.App.duplicated()], axis=0)\n",
        "print(\"{} records after dropping duplicated.\".format(df_no_dup.shape[0]))"
      ],
      "execution_count": null,
      "outputs": [
        {
          "output_type": "stream",
          "text": [
            "There are 1181/10841 duplicated records.\n",
            "9660 records after dropping duplicated.\n"
          ],
          "name": "stdout"
        }
      ]
    },
    {
      "cell_type": "markdown",
      "metadata": {
        "id": "B1uIJdHdGcV-"
      },
      "source": [
        "Cleaning type values"
      ]
    },
    {
      "cell_type": "code",
      "metadata": {
        "colab": {
          "base_uri": "https://localhost:8080/"
        },
        "id": "7RxQnAZlDklt",
        "outputId": "256c2902-6744-408e-af76-e0bdcea7a6e1"
      },
      "source": [
        "print(set(df_no_dup.Type))\n",
        "print(\"Dropping alien Type value '0', {} record(s) removed\".format(sum(df_no_dup.Type == '0')))\n",
        "df_no_dup = df_no_dup.drop(df_no_dup.index[df_no_dup.Type == '0'], axis=0)"
      ],
      "execution_count": null,
      "outputs": [
        {
          "output_type": "stream",
          "text": [
            "{nan, '0', 'Paid', 'Free'}\n",
            "Dropping alien Type value '0', 1 record(s) removed\n"
          ],
          "name": "stdout"
        }
      ]
    },
    {
      "cell_type": "markdown",
      "metadata": {
        "id": "_SRamIGxIFfv"
      },
      "source": [
        "checking and droping null values"
      ]
    },
    {
      "cell_type": "code",
      "metadata": {
        "colab": {
          "base_uri": "https://localhost:8080/"
        },
        "id": "WTuWF8wlDo2M",
        "outputId": "b65b276a-fcdd-4316-c707-81e840d1d8d4"
      },
      "source": [
        "print(\"NaA value statistics in each column\")\n",
        "print(df_no_dup.isnull().sum(axis=0),'\\n')\n",
        "df_no_dup = df_no_dup.dropna(subset=['Type'])\n",
        "print(\"Column 'Type' with NaN values are dropped, {} records left.\".format(df_no_dup.shape[0]))"
      ],
      "execution_count": null,
      "outputs": [
        {
          "output_type": "stream",
          "text": [
            "NaA value statistics in each column\n",
            "App                  0\n",
            "Category             0\n",
            "Rating            1462\n",
            "Reviews              0\n",
            "Size                 0\n",
            "Installs             0\n",
            "Type                 0\n",
            "Price                0\n",
            "Content Rating       0\n",
            "Genres               0\n",
            "Last Updated         0\n",
            "Current Ver          8\n",
            "Android Ver          2\n",
            "dtype: int64 \n",
            "\n",
            "Column 'Type' with NaN values are dropped, 9658 records left.\n"
          ],
          "name": "stdout"
        }
      ]
    },
    {
      "cell_type": "markdown",
      "metadata": {
        "id": "EJaowh9pId86"
      },
      "source": [
        "makinng rating dataframe"
      ]
    },
    {
      "cell_type": "code",
      "metadata": {
        "colab": {
          "base_uri": "https://localhost:8080/"
        },
        "id": "H-hHlVPgIV71",
        "outputId": "cd1c1397-cf43-432c-e94d-4ab2e2d48a65"
      },
      "source": [
        "df_rating = df_no_dup.dropna(subset=['Rating'])\n",
        "print(\"Cleaned dataframe for 'Rating' has {} records.\".format(df_rating.shape[0]))"
      ],
      "execution_count": null,
      "outputs": [
        {
          "output_type": "stream",
          "text": [
            "Cleaned dataframe for 'Rating' has 8196 records.\n"
          ],
          "name": "stdout"
        }
      ]
    },
    {
      "cell_type": "markdown",
      "metadata": {
        "id": "7X8BWHwZJus8"
      },
      "source": [
        "here i am analysing rating,paidfree,type so only adding them in dataframe"
      ]
    },
    {
      "cell_type": "code",
      "metadata": {
        "id": "YLgy2UyaDu3u"
      },
      "source": [
        "df_rating = df_rating.loc[:,['Rating', 'Type', 'Category']]"
      ],
      "execution_count": null,
      "outputs": []
    },
    {
      "cell_type": "markdown",
      "metadata": {
        "id": "UrRxdLhfI7le"
      },
      "source": [
        "Definig histogram"
      ]
    },
    {
      "cell_type": "code",
      "metadata": {
        "id": "3AZBu8TEI7Ms"
      },
      "source": [
        "def plot_hist(df, col, bins=10):\n",
        "    \"\"\"\n",
        "    Plot histograms for a column\n",
        "    \"\"\"\n",
        "    plt.hist(df[col], bins=bins)\n",
        "    plt.xlabel(col)\n",
        "    plt.ylabel('counts')\n",
        "    plt.title('Distribution of {}'.format(col))"
      ],
      "execution_count": null,
      "outputs": []
    },
    {
      "cell_type": "markdown",
      "metadata": {
        "id": "WSsUbIfuJDOS"
      },
      "source": [
        "arranging no of paid and free apps"
      ]
    },
    {
      "cell_type": "code",
      "metadata": {
        "id": "MJ-LvCa8I8J1"
      },
      "source": [
        "def compute_app_types(df):\n",
        "    \n",
        "    return sum(df.Type == \"Free\"), sum(df.Type == 'Paid')"
      ],
      "execution_count": null,
      "outputs": []
    },
    {
      "cell_type": "markdown",
      "metadata": {
        "id": "Q3u1V969I6p1"
      },
      "source": [
        "adding the h paod free app values to axis of graphs"
      ]
    },
    {
      "cell_type": "code",
      "metadata": {
        "id": "LT6CLrjWJSc9"
      },
      "source": [
        "def plot_app_types(df):\n",
        "    \n",
        "    vc_rating = df.Category.value_counts()\n",
        "    cat_free_apps = []\n",
        "    cat_paid_apps = []\n",
        "    for cat in vc_rating.index:\n",
        "        n_free, n_paid = compute_app_types(df.query(\"Category == '{}'\".format(cat)))\n",
        "        cat_free_apps.append(n_free)\n",
        "        cat_paid_apps.append(n_paid)\n",
        "\n",
        "    f, ax = plt.subplots(2,1)\n",
        "    ax[0].bar(range(1, len(cat_free_apps)+1), cat_free_apps)\n",
        "    ax[1].bar(range(1, len(cat_free_apps)+1), cat_paid_apps)\n"
      ],
      "execution_count": null,
      "outputs": []
    },
    {
      "cell_type": "markdown",
      "metadata": {
        "id": "yGorKqP1JOhH"
      },
      "source": [
        "plotting graph"
      ]
    },
    {
      "cell_type": "code",
      "metadata": {
        "colab": {
          "base_uri": "https://localhost:8080/",
          "height": 574
        },
        "id": "q7urL5LSEB3t",
        "outputId": "14ab945a-4468-41b2-c87a-d6199212b73c"
      },
      "source": [
        "plot_hist(df_rating, 'Rating')\n",
        "df_rating.describe()"
      ],
      "execution_count": null,
      "outputs": [
        {
          "output_type": "execute_result",
          "data": {
            "text/html": [
              "<div>\n",
              "<style scoped>\n",
              "    .dataframe tbody tr th:only-of-type {\n",
              "        vertical-align: middle;\n",
              "    }\n",
              "\n",
              "    .dataframe tbody tr th {\n",
              "        vertical-align: top;\n",
              "    }\n",
              "\n",
              "    .dataframe thead th {\n",
              "        text-align: right;\n",
              "    }\n",
              "</style>\n",
              "<table border=\"1\" class=\"dataframe\">\n",
              "  <thead>\n",
              "    <tr style=\"text-align: right;\">\n",
              "      <th></th>\n",
              "      <th>Rating</th>\n",
              "    </tr>\n",
              "  </thead>\n",
              "  <tbody>\n",
              "    <tr>\n",
              "      <th>count</th>\n",
              "      <td>8196.000000</td>\n",
              "    </tr>\n",
              "    <tr>\n",
              "      <th>mean</th>\n",
              "      <td>4.173243</td>\n",
              "    </tr>\n",
              "    <tr>\n",
              "      <th>std</th>\n",
              "      <td>0.536625</td>\n",
              "    </tr>\n",
              "    <tr>\n",
              "      <th>min</th>\n",
              "      <td>1.000000</td>\n",
              "    </tr>\n",
              "    <tr>\n",
              "      <th>25%</th>\n",
              "      <td>4.000000</td>\n",
              "    </tr>\n",
              "    <tr>\n",
              "      <th>50%</th>\n",
              "      <td>4.300000</td>\n",
              "    </tr>\n",
              "    <tr>\n",
              "      <th>75%</th>\n",
              "      <td>4.500000</td>\n",
              "    </tr>\n",
              "    <tr>\n",
              "      <th>max</th>\n",
              "      <td>5.000000</td>\n",
              "    </tr>\n",
              "  </tbody>\n",
              "</table>\n",
              "</div>"
            ],
            "text/plain": [
              "            Rating\n",
              "count  8196.000000\n",
              "mean      4.173243\n",
              "std       0.536625\n",
              "min       1.000000\n",
              "25%       4.000000\n",
              "50%       4.300000\n",
              "75%       4.500000\n",
              "max       5.000000"
            ]
          },
          "metadata": {},
          "execution_count": 30
        },
        {
          "output_type": "display_data",
          "data": {
            "image/png": "[encoded data removed]",
            "text/plain": [
              "<Figure size 432x288 with 1 Axes>"
            ]
          },
          "metadata": {
            "needs_background": "light"
          }
        }
      ]
    },
    {
      "cell_type": "code",
      "metadata": {
        "colab": {
          "base_uri": "https://localhost:8080/"
        },
        "id": "DxAUrHrOEEbM",
        "outputId": "4f1a9539-8a2c-4595-91cb-ade03e783445"
      },
      "source": [
        "print(\"There are {} free and {} paid apps in the the Rating dataframe \".format(*compute_app_types(df_rating)))"
      ],
      "execution_count": null,
      "outputs": [
        {
          "output_type": "stream",
          "text": [
            "There are 7592 free and 604 paid apps in the the Rating dataframe \n"
          ],
          "name": "stdout"
        }
      ]
    },
    {
      "cell_type": "markdown",
      "metadata": {
        "id": "eACAY9ANKnuN"
      },
      "source": [
        "Rating distribution of paid and free apps"
      ]
    },
    {
      "cell_type": "code",
      "metadata": {
        "colab": {
          "base_uri": "https://localhost:8080/",
          "height": 268
        },
        "id": "JCf5dHCHER29",
        "outputId": "119b1c00-3ecf-46e1-ddca-0905d152ba66"
      },
      "source": [
        "\n",
        "plot_app_types(df_rating)"
      ],
      "execution_count": null,
      "outputs": [
        {
          "output_type": "display_data",
          "data": {
            "image/png": "[encoded data removed]",
            "text/plain": [
              "<Figure size 432x288 with 2 Axes>"
            ]
          },
          "metadata": {
            "needs_background": "light"
          }
        }
      ]
    },
    {
      "cell_type": "code",
      "metadata": {
        "colab": {
          "base_uri": "https://localhost:8080/",
          "height": 295
        },
        "id": "df0Av_ggEbVG",
        "outputId": "4110978b-df50-4903-c930-f13dafb0147a"
      },
      "source": [
        "df_rating.describe()"
      ],
      "execution_count": null,
      "outputs": [
        {
          "output_type": "execute_result",
          "data": {
            "text/html": [
              "<div>\n",
              "<style scoped>\n",
              "    .dataframe tbody tr th:only-of-type {\n",
              "        vertical-align: middle;\n",
              "    }\n",
              "\n",
              "    .dataframe tbody tr th {\n",
              "        vertical-align: top;\n",
              "    }\n",
              "\n",
              "    .dataframe thead th {\n",
              "        text-align: right;\n",
              "    }\n",
              "</style>\n",
              "<table border=\"1\" class=\"dataframe\">\n",
              "  <thead>\n",
              "    <tr style=\"text-align: right;\">\n",
              "      <th></th>\n",
              "      <th>Rating</th>\n",
              "    </tr>\n",
              "  </thead>\n",
              "  <tbody>\n",
              "    <tr>\n",
              "      <th>count</th>\n",
              "      <td>5753.000000</td>\n",
              "    </tr>\n",
              "    <tr>\n",
              "      <th>mean</th>\n",
              "      <td>4.173197</td>\n",
              "    </tr>\n",
              "    <tr>\n",
              "      <th>std</th>\n",
              "      <td>0.544844</td>\n",
              "    </tr>\n",
              "    <tr>\n",
              "      <th>min</th>\n",
              "      <td>1.000000</td>\n",
              "    </tr>\n",
              "    <tr>\n",
              "      <th>25%</th>\n",
              "      <td>4.000000</td>\n",
              "    </tr>\n",
              "    <tr>\n",
              "      <th>50%</th>\n",
              "      <td>4.300000</td>\n",
              "    </tr>\n",
              "    <tr>\n",
              "      <th>75%</th>\n",
              "      <td>4.500000</td>\n",
              "    </tr>\n",
              "    <tr>\n",
              "      <th>max</th>\n",
              "      <td>5.000000</td>\n",
              "    </tr>\n",
              "  </tbody>\n",
              "</table>\n",
              "</div>"
            ],
            "text/plain": [
              "            Rating\n",
              "count  5753.000000\n",
              "mean      4.173197\n",
              "std       0.544844\n",
              "min       1.000000\n",
              "25%       4.000000\n",
              "50%       4.300000\n",
              "75%       4.500000\n",
              "max       5.000000"
            ]
          },
          "metadata": {},
          "execution_count": 16
        }
      ]
    },
    {
      "cell_type": "markdown",
      "metadata": {
        "id": "rlsMs4PoK0-h"
      },
      "source": [
        "plotting the average rating of paid and free apps"
      ]
    },
    {
      "cell_type": "code",
      "metadata": {
        "colab": {
          "base_uri": "https://localhost:8080/",
          "height": 346
        },
        "id": "V1YTCryjEjhd",
        "outputId": "dc5f8469-c60d-42b6-a0f1-95d4c89b2d70"
      },
      "source": [
        "def plot_target_by_group(df, target_col, group_col, figsize=(6,4), title=\"\"):\n",
        "    \n",
        "    order = sorted(list(set(df[group_col])))\n",
        "    stats = df.groupby(group_col).mean()[target_col]\n",
        "    fig, ax = plt.subplots(figsize=figsize)\n",
        "    sns.barplot(x=group_col, y=target_col, data=df, ax=ax, order=order).set_title(title)\n",
        "    ax.set(ylim=(3.8, 4.5))    \n",
        "    return stats\n",
        "    \n",
        "stats = plot_target_by_group(df_rating, 'Rating', 'Type', title=\"Average Rating Groupped by App Type\")\n",
        "for i, s in zip(stats.index, stats):\n",
        "    print(\"{} app has average {} {}\".format(i, 'Rating',s))\n",
        "mean_rating = df_rating.Rating.mean()\n",
        "print(\"Mean rating: {}\".format(mean_rating))"
      ],
      "execution_count": null,
      "outputs": [
        {
          "output_type": "stream",
          "text": [
            "Free app has average Rating 4.1663724973656535\n",
            "Paid app has average Rating 4.259602649006619\n",
            "Mean rating: 4.173243045387998\n"
          ],
          "name": "stdout"
        },
        {
          "output_type": "display_data",
          "data": {
            "image/png": "[encoded data removed]",
            "text/plain": [
              "<Figure size 432x288 with 1 Axes>"
            ]
          },
          "metadata": {
            "needs_background": "light"
          }
        }
      ]
    },
    {
      "cell_type": "markdown",
      "metadata": {
        "id": "JdzAg2DPMLYo"
      },
      "source": [
        "plotting the difference between rating of paid and free apps"
      ]
    },
    {
      "cell_type": "code",
      "metadata": {
        "colab": {
          "base_uri": "https://localhost:8080/",
          "height": 518
        },
        "id": "4Z3WlZeSEzf6",
        "outputId": "2b3d4085-d7f9-426f-ea74-c55497d1b2a9"
      },
      "source": [
        "fig, ax = plt.subplots(figsize=(16,4))\n",
        "sorted_idx = sorted(paid_stats.index)\n",
        "rating_diff = paid_stats[sorted_idx] - free_stats[sorted_idx]\n",
        "sns.barplot(x=sorted_idx, y=rating_diff, ax=ax).set_title(\"Difference of Ratings between Paid and Free Apps Across App Categories\");\n",
        "rating_diff"
      ],
      "execution_count": null,
      "outputs": [
        {
          "output_type": "execute_result",
          "data": {
            "text/plain": [
              "Category\n",
              "COMMUNICATION        -0.063287\n",
              "FAMILY                0.115128\n",
              "FINANCE              -0.297604\n",
              "GAME                  0.136364\n",
              "HEALTH_AND_FITNESS    0.154858\n",
              "LIFESTYLE             0.166608\n",
              "MEDICAL               0.087344\n",
              "PERSONALIZATION       0.147692\n",
              "PHOTOGRAPHY          -0.152796\n",
              "PRODUCTIVITY          0.023577\n",
              "SPORTS                0.041940\n",
              "TOOLS                 0.142818\n",
              "Name: Rating, dtype: float64"
            ]
          },
          "metadata": {},
          "execution_count": 20
        },
        {
          "output_type": "display_data",
          "data": {
            "image/png": "[encoded data removed]",
            "text/plain": [
              "<Figure size 1152x288 with 1 Axes>"
            ]
          },
          "metadata": {
            "needs_background": "light"
          }
        }
      ]
    }
  ]
}